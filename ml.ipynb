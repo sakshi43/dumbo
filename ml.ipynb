{
  "cells": [
    {
      "cell_type": "markdown",
      "metadata": {
        "id": "view-in-github",
        "colab_type": "text"
      },
      "source": [
        "<a href=\"https://colab.research.google.com/github/sakshi43/dumbo/blob/main/ml.ipynb\" target=\"_parent\"><img src=\"https://colab.research.google.com/assets/colab-badge.svg\" alt=\"Open In Colab\"/></a>"
      ]
    },
    {
      "cell_type": "code",
      "execution_count": null,
      "metadata": {
        "id": "wIXyHtXAYPC_"
      },
      "outputs": [],
      "source": []
    },
    {
      "cell_type": "code",
      "execution_count": 2,
      "metadata": {
        "colab": {
          "base_uri": "https://localhost:8080/"
        },
        "id": "QGa2Zt8GYnWp",
        "outputId": "02106974-0410-4312-ea7d-aaed2aca2acc"
      },
      "outputs": [
        {
          "output_type": "stream",
          "name": "stdout",
          "text": [
            "Drive already mounted at /content/drive; to attempt to forcibly remount, call drive.mount(\"/content/drive\", force_remount=True).\n"
          ]
        }
      ],
      "source": [
        "from google.colab import drive\n",
        "drive.mount('/content/drive')"
      ]
    },
    {
      "cell_type": "code",
      "execution_count": null,
      "metadata": {
        "id": "ryT_xAsoYpuJ"
      },
      "outputs": [],
      "source": [
        "import pandas as pd"
      ]
    },
    {
      "cell_type": "code",
      "execution_count": null,
      "metadata": {
        "id": "TDRcDwluYpxB"
      },
      "outputs": [],
      "source": [
        "df=pd.read_csv(\"/content/drive/MyDrive/insurance.csv.csv\")"
      ]
    },
    {
      "cell_type": "code",
      "execution_count": null,
      "metadata": {
        "id": "PO_bYjLGYp0m"
      },
      "outputs": [],
      "source": [
        "df.head(5)"
      ]
    },
    {
      "cell_type": "code",
      "execution_count": null,
      "metadata": {
        "id": "VJKU9R9Ra-2O"
      },
      "outputs": [],
      "source": [
        "df.isnull().sum()"
      ]
    },
    {
      "cell_type": "code",
      "execution_count": null,
      "metadata": {
        "id": "0JEm2B8gbHjt"
      },
      "outputs": [],
      "source": []
    },
    {
      "cell_type": "code",
      "execution_count": null,
      "metadata": {
        "id": "IrxeQz5SY-yv"
      },
      "outputs": [],
      "source": [
        "import matplotlib.pyplot as plt"
      ]
    },
    {
      "cell_type": "code",
      "execution_count": null,
      "metadata": {
        "id": "K6nTROPMbChE"
      },
      "outputs": [],
      "source": [
        "df.age.fillna(0,inplace=True)"
      ]
    },
    {
      "cell_type": "code",
      "execution_count": null,
      "metadata": {
        "id": "ERSjK_g_bJUV"
      },
      "outputs": [],
      "source": [
        "df.isnull().sum()"
      ]
    },
    {
      "cell_type": "code",
      "execution_count": null,
      "metadata": {
        "id": "YFGPN1U-ZCKd"
      },
      "outputs": [],
      "source": [
        "plt.scatter(df.age,df.brough_insurance,marker=\"*\",color=\"black\")"
      ]
    },
    {
      "cell_type": "code",
      "execution_count": null,
      "metadata": {
        "id": "w51l_YsWZH3a"
      },
      "outputs": [],
      "source": [
        "from sklearn.model_selection import train_test_split\n",
        "x_train,x_test,y_train,y_test=train_test_split(df[['age']],df.brough_insurance,test_size=0.1)"
      ]
    },
    {
      "cell_type": "code",
      "execution_count": null,
      "metadata": {
        "id": "IdLJ0lAQZx1e"
      },
      "outputs": [],
      "source": [
        "x_train"
      ]
    },
    {
      "cell_type": "code",
      "execution_count": null,
      "metadata": {
        "id": "izCAjjXNZ4Pv"
      },
      "outputs": [],
      "source": [
        "x_test"
      ]
    },
    {
      "cell_type": "code",
      "execution_count": null,
      "metadata": {
        "id": "kHXJyYdNZ6qW"
      },
      "outputs": [],
      "source": [
        "from sklearn.linear_model import LogisticRegression"
      ]
    },
    {
      "cell_type": "code",
      "execution_count": null,
      "metadata": {
        "id": "Dwd_RLjkaDqW"
      },
      "outputs": [],
      "source": [
        "log=LogisticRegression()"
      ]
    },
    {
      "cell_type": "code",
      "execution_count": null,
      "metadata": {
        "id": "RUJA1bjNad1M"
      },
      "outputs": [],
      "source": [
        "log.fit(x_train,y_train)"
      ]
    },
    {
      "cell_type": "code",
      "execution_count": null,
      "metadata": {
        "id": "8IT5bg9XbU8o"
      },
      "outputs": [],
      "source": [
        "log.predict(x_test)"
      ]
    },
    {
      "cell_type": "code",
      "execution_count": null,
      "metadata": {
        "id": "-mil3o3VdKeB"
      },
      "outputs": [],
      "source": [
        "log.score(x_test,y_test)"
      ]
    },
    {
      "cell_type": "code",
      "execution_count": null,
      "metadata": {
        "id": "j_gN_agjdhwN"
      },
      "outputs": [],
      "source": [
        "log.score(x_train,y_train)"
      ]
    },
    {
      "cell_type": "code",
      "execution_count": null,
      "metadata": {
        "id": "6Xs65-7KdqDI"
      },
      "outputs": [],
      "source": [
        "log.predict_proba(x_test)"
      ]
    },
    {
      "cell_type": "code",
      "execution_count": null,
      "metadata": {
        "id": "lwatZGXQeEHi"
      },
      "outputs": [],
      "source": [
        "log.predict([[61]])"
      ]
    },
    {
      "cell_type": "code",
      "execution_count": null,
      "metadata": {
        "id": "vXCnYKRUeNJZ"
      },
      "outputs": [],
      "source": [
        "log.predict([[27]])"
      ]
    },
    {
      "cell_type": "markdown",
      "metadata": {
        "id": "awq6xJS6sWoa"
      },
      "source": [
        "**multi variable logistiic regression**"
      ]
    },
    {
      "cell_type": "code",
      "execution_count": null,
      "metadata": {
        "id": "oc0msW7gec-L"
      },
      "outputs": [],
      "source": [
        "import pandas as pd\n",
        "from sklearn.datasets import load_digits"
      ]
    },
    {
      "cell_type": "code",
      "execution_count": null,
      "metadata": {
        "id": "6Dtd7GLCsjH3"
      },
      "outputs": [],
      "source": [
        "data=load_digits()"
      ]
    },
    {
      "cell_type": "code",
      "execution_count": null,
      "metadata": {
        "id": "sORNah5TsmG0"
      },
      "outputs": [],
      "source": [
        "data"
      ]
    },
    {
      "cell_type": "code",
      "execution_count": null,
      "metadata": {
        "id": "9GmLUCFBspOU"
      },
      "outputs": [],
      "source": [
        "data.feature_names"
      ]
    },
    {
      "cell_type": "code",
      "execution_count": null,
      "metadata": {
        "id": "Wx86TjZZsucD"
      },
      "outputs": [],
      "source": [
        "data.target"
      ]
    },
    {
      "cell_type": "code",
      "execution_count": null,
      "metadata": {
        "id": "43bsGexpsswx"
      },
      "outputs": [],
      "source": [
        "data.target_names"
      ]
    },
    {
      "cell_type": "code",
      "execution_count": null,
      "metadata": {
        "id": "-oiktXi3tGrP"
      },
      "outputs": [],
      "source": [
        "dir(data)"
      ]
    },
    {
      "cell_type": "code",
      "execution_count": null,
      "metadata": {
        "id": "G6X5UzE0tb53"
      },
      "outputs": [],
      "source": [
        "data.images[0]"
      ]
    },
    {
      "cell_type": "code",
      "execution_count": null,
      "metadata": {
        "id": "pF_xbzZitfDC"
      },
      "outputs": [],
      "source": [
        "import matplotlib.pyplot as plt\n",
        "plt.gray()\n",
        "plt.matshow(data.images[0])"
      ]
    },
    {
      "cell_type": "code",
      "execution_count": null,
      "metadata": {
        "id": "G3j1aWMHx1-L"
      },
      "outputs": [],
      "source": [
        "data.data"
      ]
    },
    {
      "cell_type": "code",
      "execution_count": null,
      "metadata": {
        "id": "zJEQ34AwtzSM"
      },
      "outputs": [],
      "source": [
        "plt.matshow(data.images[9])"
      ]
    },
    {
      "cell_type": "code",
      "execution_count": null,
      "metadata": {
        "id": "KvlG5Z-mt42V"
      },
      "outputs": [],
      "source": [
        "for i in range(9):\n",
        "  plt.matshow(data.images[i])"
      ]
    },
    {
      "cell_type": "code",
      "execution_count": null,
      "metadata": {
        "id": "Ex5_3QKuuLao"
      },
      "outputs": [],
      "source": [
        "data.target[0:5]"
      ]
    },
    {
      "cell_type": "code",
      "execution_count": null,
      "metadata": {
        "id": "U_VzwUbswzw0"
      },
      "outputs": [],
      "source": [
        "from sklearn.model_selection import train_test_split"
      ]
    },
    {
      "cell_type": "code",
      "execution_count": null,
      "metadata": {
        "id": "ITGUlsolxEDy"
      },
      "outputs": [],
      "source": [
        "x_train,x_test,y_train,y_test=train_test_split(data.data,data.target,test_size=0.2)"
      ]
    },
    {
      "cell_type": "code",
      "execution_count": null,
      "metadata": {
        "id": "1_lgTKCFxmx4"
      },
      "outputs": [],
      "source": [
        "x_train.shape"
      ]
    },
    {
      "cell_type": "code",
      "execution_count": null,
      "metadata": {
        "id": "pGAsBam0yHVB"
      },
      "outputs": [],
      "source": [
        "x_test.shape"
      ]
    },
    {
      "cell_type": "code",
      "execution_count": null,
      "metadata": {
        "id": "7PCx2qQOyWk7"
      },
      "outputs": [],
      "source": [
        "from sklearn.linear_model import LogisticRegression"
      ]
    },
    {
      "cell_type": "code",
      "execution_count": null,
      "metadata": {
        "id": "eRpL9Smryd_T"
      },
      "outputs": [],
      "source": [
        "log=LogisticRegression()"
      ]
    },
    {
      "cell_type": "code",
      "execution_count": null,
      "metadata": {
        "id": "ymQZvt47ygoQ"
      },
      "outputs": [],
      "source": [
        "log.fit(x_train,y_train)"
      ]
    },
    {
      "cell_type": "code",
      "execution_count": null,
      "metadata": {
        "id": "WpxG27iDyj_S"
      },
      "outputs": [],
      "source": [
        "log.predict(x_test)"
      ]
    },
    {
      "cell_type": "code",
      "execution_count": null,
      "metadata": {
        "id": "5K0Z5MNNymmS"
      },
      "outputs": [],
      "source": [
        "log.predict_proba(x_test)"
      ]
    },
    {
      "cell_type": "code",
      "execution_count": null,
      "metadata": {
        "id": "erZrtYmVyrTs"
      },
      "outputs": [],
      "source": [
        "log.score(x_test,y_test)"
      ]
    },
    {
      "cell_type": "code",
      "execution_count": null,
      "metadata": {
        "id": "USG8aBJVyvzh"
      },
      "outputs": [],
      "source": [
        "data.target[60]"
      ]
    },
    {
      "cell_type": "code",
      "execution_count": null,
      "metadata": {
        "id": "_IwWp4JhzDWo"
      },
      "outputs": [],
      "source": [
        "plt.matshow(data.images[60])"
      ]
    },
    {
      "cell_type": "code",
      "execution_count": null,
      "metadata": {
        "id": "3YQ2K1PJzJZS"
      },
      "outputs": [],
      "source": [
        "log.predict([data.data[60]])"
      ]
    },
    {
      "cell_type": "code",
      "execution_count": null,
      "metadata": {
        "id": "hmv9HpYIzUxO"
      },
      "outputs": [],
      "source": [
        "y_predicted=log.predict(x_test)\n",
        "from sklearn.metrics import confusion_matrix,classification_report"
      ]
    },
    {
      "cell_type": "code",
      "execution_count": null,
      "metadata": {
        "id": "LPjWjmLtzq4D"
      },
      "outputs": [],
      "source": [
        "y_predicted"
      ]
    },
    {
      "cell_type": "code",
      "execution_count": null,
      "metadata": {
        "id": "Gd54ne1Azt-y"
      },
      "outputs": [],
      "source": [
        "clf=confusion_matrix(y_test,y_predicted)"
      ]
    },
    {
      "cell_type": "code",
      "execution_count": null,
      "metadata": {
        "id": "UvGO5y070NGJ"
      },
      "outputs": [],
      "source": [
        "import seaborn as sns\n",
        "sns.heatmap(clf,annot=True)"
      ]
    },
    {
      "cell_type": "code",
      "execution_count": null,
      "metadata": {
        "id": "79A4JM_Nz4o-"
      },
      "outputs": [],
      "source": [
        "clf"
      ]
    },
    {
      "cell_type": "code",
      "execution_count": null,
      "metadata": {
        "id": "r5r79MN_z_EE"
      },
      "outputs": [],
      "source": [
        "clr=classification_report(y_test,y_predicted)"
      ]
    },
    {
      "cell_type": "code",
      "execution_count": null,
      "metadata": {
        "id": "kTwnpdoS0Hp_"
      },
      "outputs": [],
      "source": [
        "print(clr)"
      ]
    },
    {
      "cell_type": "code",
      "execution_count": null,
      "metadata": {
        "id": "YfvqRdnV0JZE"
      },
      "outputs": [],
      "source": [
        "from sklearn.datasets import load_iris"
      ]
    },
    {
      "cell_type": "code",
      "execution_count": null,
      "metadata": {
        "id": "K7PvxA4ClUZq"
      },
      "outputs": [],
      "source": [
        "iris=load_iris()"
      ]
    },
    {
      "cell_type": "code",
      "execution_count": null,
      "metadata": {
        "id": "PHCwqGWGlrro"
      },
      "outputs": [],
      "source": [
        "dir(iris)"
      ]
    },
    {
      "cell_type": "code",
      "execution_count": null,
      "metadata": {
        "id": "W3dTbPw4lxH4"
      },
      "outputs": [],
      "source": [
        "iris.data"
      ]
    },
    {
      "cell_type": "code",
      "execution_count": null,
      "metadata": {
        "id": "tYn5UDGtl0n8"
      },
      "outputs": [],
      "source": [
        "iris.feature_names"
      ]
    },
    {
      "cell_type": "code",
      "execution_count": null,
      "metadata": {
        "id": "wheXVQv9l4fF"
      },
      "outputs": [],
      "source": [
        "iris.target"
      ]
    },
    {
      "cell_type": "code",
      "execution_count": null,
      "metadata": {
        "id": "xIU2IT1Jl6ry"
      },
      "outputs": [],
      "source": [
        "import pandas as pd\n",
        "data1=pd.DataFrame(iris.data,iris.target)"
      ]
    },
    {
      "cell_type": "code",
      "execution_count": null,
      "metadata": {
        "id": "7Em_GuVumSdH"
      },
      "outputs": [],
      "source": [
        "data1.head()"
      ]
    },
    {
      "cell_type": "code",
      "execution_count": null,
      "metadata": {
        "id": "yZ2bg80vmhl_"
      },
      "outputs": [],
      "source": [
        "from sklearn.model_selection import train_test_split\n",
        "x_train,x_test,y_train,y_test=train_test_split(iris.data,iris.target)"
      ]
    },
    {
      "cell_type": "code",
      "execution_count": null,
      "metadata": {
        "id": "x9pipSbBnHOl"
      },
      "outputs": [],
      "source": [
        "from sklearn.linear_model import LogisticRegression"
      ]
    },
    {
      "cell_type": "code",
      "execution_count": null,
      "metadata": {
        "id": "_b43tRvwnQac"
      },
      "outputs": [],
      "source": [
        "log=LogisticRegression()"
      ]
    },
    {
      "cell_type": "code",
      "execution_count": null,
      "metadata": {
        "id": "xmW4xxcinTI-"
      },
      "outputs": [],
      "source": [
        "log.fit(x_train,y_train)"
      ]
    },
    {
      "cell_type": "code",
      "execution_count": null,
      "metadata": {
        "id": "NaC02B_3nWFL"
      },
      "outputs": [],
      "source": [
        "log.predict(x_test)"
      ]
    },
    {
      "cell_type": "code",
      "execution_count": null,
      "metadata": {
        "id": "vrKH8jyLnZWi"
      },
      "outputs": [],
      "source": [
        "log.score(x_test,y_test)"
      ]
    },
    {
      "cell_type": "code",
      "execution_count": null,
      "metadata": {
        "id": "KSLiisfGndrR"
      },
      "outputs": [],
      "source": [
        "y_predicted=log.predict(x_test)\n",
        "from sklearn.metrics import confusion_matrix\n",
        "clf=confusion_matrix(y_test,y_predicted)"
      ]
    },
    {
      "cell_type": "code",
      "execution_count": null,
      "metadata": {
        "id": "M6F5fTT7ocUB"
      },
      "outputs": [],
      "source": [
        "clf"
      ]
    },
    {
      "cell_type": "code",
      "execution_count": null,
      "metadata": {
        "id": "6N7kwrsQodU5"
      },
      "outputs": [],
      "source": [
        "import seaborn as sns\n",
        "sns.heatmap(clf,annot=True)"
      ]
    },
    {
      "cell_type": "code",
      "execution_count": null,
      "metadata": {
        "id": "HbP9UwOUoiWA"
      },
      "outputs": [],
      "source": [
        "from sklearn.metrics import classification_report\n",
        "clr=classification_report(y_test,y_predicted)"
      ]
    },
    {
      "cell_type": "code",
      "execution_count": null,
      "metadata": {
        "id": "PMkxhDd2qU8d"
      },
      "outputs": [],
      "source": [
        "print(clr)"
      ]
    },
    {
      "cell_type": "markdown",
      "metadata": {
        "id": "TC2l0CFkskMb"
      },
      "source": [
        "**DECISION TREE**"
      ]
    },
    {
      "cell_type": "code",
      "execution_count": null,
      "metadata": {
        "id": "pNtS1oKyqXWF"
      },
      "outputs": [],
      "source": [
        "import pandas as pd\n",
        "df=pd.read_csv('/content/drive/MyDrive/salaries.csv')"
      ]
    },
    {
      "cell_type": "code",
      "execution_count": null,
      "metadata": {
        "id": "mpvH0hRist66"
      },
      "outputs": [],
      "source": [
        "df.head()"
      ]
    },
    {
      "cell_type": "code",
      "execution_count": null,
      "metadata": {
        "id": "BZO56zkbsv6K"
      },
      "outputs": [],
      "source": [
        "inputs=df.drop(['salary_more_then_100k'],axis=1)\n",
        "target=df.salary_more_then_100k"
      ]
    },
    {
      "cell_type": "code",
      "execution_count": null,
      "metadata": {
        "id": "EayOqh-htQPg"
      },
      "outputs": [],
      "source": [
        "inputs.head()"
      ]
    },
    {
      "cell_type": "code",
      "execution_count": null,
      "metadata": {
        "id": "egX7vT4UtgrQ"
      },
      "outputs": [],
      "source": [
        "target"
      ]
    },
    {
      "cell_type": "code",
      "execution_count": null,
      "metadata": {
        "id": "RsU06sFTtjgz"
      },
      "outputs": [],
      "source": [
        "from sklearn.preprocessing import LabelEncoder\n",
        "encoder=LabelEncoder()"
      ]
    },
    {
      "cell_type": "code",
      "execution_count": null,
      "metadata": {
        "id": "TiAId1AhtuDL"
      },
      "outputs": [],
      "source": [
        "inputs['company_n']=encoder.fit_transform(inputs['company'])\n",
        "inputs['job_n']=encoder.fit_transform(inputs['job'])\n",
        "inputs['degree_n']=encoder.fit_transform(inputs['degree'])\n"
      ]
    },
    {
      "cell_type": "code",
      "execution_count": null,
      "metadata": {
        "id": "Csav9VasuGl3"
      },
      "outputs": [],
      "source": [
        "inputs.drop(['job','company','degree'],axis=1,inplace=True)\n"
      ]
    },
    {
      "cell_type": "code",
      "execution_count": null,
      "metadata": {
        "id": "0RCh6_-Duut9"
      },
      "outputs": [],
      "source": [
        "inputs.head()"
      ]
    },
    {
      "cell_type": "code",
      "execution_count": null,
      "metadata": {
        "id": "GiZXSJcQvVHn"
      },
      "outputs": [],
      "source": [
        "from sklearn.tree import DecisionTreeClassifier\n",
        "decision_tree=DecisionTreeClassifier()"
      ]
    },
    {
      "cell_type": "code",
      "execution_count": null,
      "metadata": {
        "id": "Qav-jBYKwNE_"
      },
      "outputs": [],
      "source": [
        "decision_tree.fit(inputs,target)"
      ]
    },
    {
      "cell_type": "code",
      "execution_count": null,
      "metadata": {
        "id": "fncZxoo9w-kd"
      },
      "outputs": [],
      "source": [
        "decision_tree.score(inputs,target)"
      ]
    },
    {
      "cell_type": "code",
      "execution_count": null,
      "metadata": {
        "id": "SyokIDVNxf1j"
      },
      "outputs": [],
      "source": [
        "decision_tree.predict([[2,2,1]])"
      ]
    },
    {
      "cell_type": "code",
      "execution_count": null,
      "metadata": {
        "id": "E86-ngBBx90s"
      },
      "outputs": [],
      "source": [
        "decision_tree.predict([[2,0,1]])"
      ]
    },
    {
      "cell_type": "code",
      "execution_count": null,
      "metadata": {
        "id": "QT1RmSWMyYGG"
      },
      "outputs": [],
      "source": [
        "titanic=pd.read_csv(\"/content/drive/MyDrive/titanic.csv\")"
      ]
    },
    {
      "cell_type": "code",
      "execution_count": null,
      "metadata": {
        "id": "e2oiAefM0Gj3"
      },
      "outputs": [],
      "source": [
        "titanic.head(5)"
      ]
    },
    {
      "cell_type": "code",
      "execution_count": null,
      "metadata": {
        "id": "9zVDQIuQ0I_Z"
      },
      "outputs": [],
      "source": [
        "titanic_inputs=titanic.drop(['Survived'],axis=1)"
      ]
    },
    {
      "cell_type": "code",
      "execution_count": null,
      "metadata": {
        "id": "M0nd9Sy_0wgs"
      },
      "outputs": [],
      "source": [
        "titanic_target=titanic.Survived"
      ]
    },
    {
      "cell_type": "code",
      "execution_count": null,
      "metadata": {
        "id": "v90Iv9Ev03ju"
      },
      "outputs": [],
      "source": [
        "titanic_inputs.head()"
      ]
    },
    {
      "cell_type": "code",
      "execution_count": null,
      "metadata": {
        "id": "Xa_T1ioN08Go"
      },
      "outputs": [],
      "source": [
        "titanic_inputs.drop(['PassengerId','Name','SibSp','Parch','Ticket','Cabin','Embarked'],axis=1,inplace=True)"
      ]
    },
    {
      "cell_type": "code",
      "execution_count": null,
      "metadata": {
        "id": "z83_LrKA1Tp7"
      },
      "outputs": [],
      "source": [
        "titanic_inputs.head()"
      ]
    },
    {
      "cell_type": "code",
      "execution_count": null,
      "metadata": {
        "id": "thhIpictTajj"
      },
      "outputs": [],
      "source": [
        "titanic_inputs.isnull().sum()"
      ]
    },
    {
      "cell_type": "code",
      "execution_count": null,
      "metadata": {
        "id": "eKbjbLH5TgYB"
      },
      "outputs": [],
      "source": [
        "titanic_inputs.fillna(22,inplace=True)"
      ]
    },
    {
      "cell_type": "code",
      "execution_count": null,
      "metadata": {
        "id": "zOjEHc03TpZA"
      },
      "outputs": [],
      "source": [
        "titanic_inputs.isnull().sum()"
      ]
    },
    {
      "cell_type": "code",
      "execution_count": null,
      "metadata": {
        "id": "APxhtcv41Xhv"
      },
      "outputs": [],
      "source": [
        "from sklearn.preprocessing import LabelEncoder\n",
        "encode=LabelEncoder()\n",
        "titanic_inputs['Sex']=encode.fit_transform(titanic_inputs['Sex'])"
      ]
    },
    {
      "cell_type": "code",
      "execution_count": null,
      "metadata": {
        "id": "dEyXjt5bSh47"
      },
      "outputs": [],
      "source": [
        "titanic_inputs"
      ]
    },
    {
      "cell_type": "code",
      "execution_count": null,
      "metadata": {
        "id": "UVTqrWPZWEDy"
      },
      "outputs": [],
      "source": [
        "target"
      ]
    },
    {
      "cell_type": "code",
      "execution_count": null,
      "metadata": {
        "id": "E2vTEpteS2-G"
      },
      "outputs": [],
      "source": [
        "from sklearn.tree import DecisionTreeClassifier"
      ]
    },
    {
      "cell_type": "code",
      "execution_count": null,
      "metadata": {
        "id": "-ToZfZ8XS_lG"
      },
      "outputs": [],
      "source": [
        "tre=DecisionTreeClassifier()"
      ]
    },
    {
      "cell_type": "code",
      "execution_count": null,
      "metadata": {
        "id": "L7sJUmiqTJ3c"
      },
      "outputs": [],
      "source": [
        "tre.fit(titanic_inputs,titanic_target)"
      ]
    },
    {
      "cell_type": "code",
      "execution_count": null,
      "metadata": {
        "id": "_Cu57UJTWy8t"
      },
      "outputs": [],
      "source": [
        "tre.score(titanic_inputs,titanic_target)"
      ]
    },
    {
      "cell_type": "code",
      "execution_count": null,
      "metadata": {
        "id": "fjtOZe2PZjUb"
      },
      "outputs": [],
      "source": [
        "tre.predict([[3,\t1,\t22.0,\t7.2500]])"
      ]
    },
    {
      "cell_type": "markdown",
      "metadata": {
        "id": "tu9kCVzfqNj5"
      },
      "source": [
        "**SVM**"
      ]
    },
    {
      "cell_type": "code",
      "execution_count": null,
      "metadata": {
        "id": "l-tOGGN5aSYA"
      },
      "outputs": [],
      "source": [
        "from sklearn.datasets import load_iris\n",
        "iris=load_iris()"
      ]
    },
    {
      "cell_type": "code",
      "execution_count": null,
      "metadata": {
        "id": "yYW3IZqudMoZ"
      },
      "outputs": [],
      "source": [
        "dir(iris)"
      ]
    },
    {
      "cell_type": "code",
      "execution_count": null,
      "metadata": {
        "id": "BNsqe9DOddsW"
      },
      "outputs": [],
      "source": [
        "iris.feature_names"
      ]
    },
    {
      "cell_type": "code",
      "execution_count": null,
      "metadata": {
        "id": "5NUVsFzSdhhR"
      },
      "outputs": [],
      "source": [
        "data=pd.DataFrame(iris.data,columns=[iris.feature_names])"
      ]
    },
    {
      "cell_type": "code",
      "execution_count": null,
      "metadata": {
        "id": "gZRN-RvidvQV"
      },
      "outputs": [],
      "source": [
        "data.head()"
      ]
    },
    {
      "cell_type": "code",
      "execution_count": null,
      "metadata": {
        "id": "XZTE9sWjqjFB"
      },
      "outputs": [],
      "source": [
        "data['target']=iris.target"
      ]
    },
    {
      "cell_type": "code",
      "execution_count": null,
      "metadata": {
        "id": "S1_ceAZaqowj"
      },
      "outputs": [],
      "source": [
        "data.tail()"
      ]
    },
    {
      "cell_type": "code",
      "execution_count": null,
      "metadata": {
        "id": "4QSB5V4AdxNp"
      },
      "outputs": [],
      "source": [
        "iris.target_names\n"
      ]
    },
    {
      "cell_type": "code",
      "execution_count": null,
      "metadata": {
        "id": "00l8E39-qGkh"
      },
      "outputs": [],
      "source": [
        "iris.target"
      ]
    },
    {
      "cell_type": "code",
      "execution_count": null,
      "metadata": {
        "id": "7ywB2VU0qTPg"
      },
      "outputs": [],
      "source": [
        "data[data.target==2].tail()"
      ]
    },
    {
      "cell_type": "code",
      "execution_count": null,
      "metadata": {
        "id": "8Sl8-3EDs8mk"
      },
      "outputs": [],
      "source": [
        "data['Flower_names']=data.target.apply(lambda x: iris.target_names[x])"
      ]
    },
    {
      "cell_type": "code",
      "execution_count": null,
      "metadata": {
        "id": "6a5FnhsLtQuq"
      },
      "outputs": [],
      "source": [
        "data.head()"
      ]
    },
    {
      "cell_type": "code",
      "execution_count": null,
      "metadata": {
        "id": "DobphBz5teWU"
      },
      "outputs": [],
      "source": [
        "df=data[data.target==0]\n",
        "df1=data[data.target==1]\n",
        "df2=data[data.target==2]"
      ]
    },
    {
      "cell_type": "code",
      "execution_count": null,
      "metadata": {
        "id": "y_pkCMusuUnF"
      },
      "outputs": [],
      "source": [
        "df.count()"
      ]
    },
    {
      "cell_type": "code",
      "execution_count": null,
      "metadata": {
        "id": "v-ODnl-4vevg"
      },
      "outputs": [],
      "source": [
        "from sklearn.model_selection import train_test_split"
      ]
    },
    {
      "cell_type": "code",
      "execution_count": null,
      "metadata": {
        "id": "OsSee_zRvv6O"
      },
      "outputs": [],
      "source": [
        "x=data.drop(['target','Flower_names'],axis=1)"
      ]
    },
    {
      "cell_type": "code",
      "execution_count": null,
      "metadata": {
        "id": "BMuqgDdAv4k0"
      },
      "outputs": [],
      "source": [
        "y=data.target"
      ]
    },
    {
      "cell_type": "code",
      "execution_count": null,
      "metadata": {
        "id": "FPLZ6xyFv7g4"
      },
      "outputs": [],
      "source": [
        "x_train,x_test,y_train,y_test=train_test_split(x,y,test_size=0.1)"
      ]
    },
    {
      "cell_type": "code",
      "execution_count": null,
      "metadata": {
        "id": "ghejuZNlwD_e"
      },
      "outputs": [],
      "source": [
        "x_train.shape"
      ]
    },
    {
      "cell_type": "code",
      "execution_count": null,
      "metadata": {
        "id": "EmIlRe6xwGEA"
      },
      "outputs": [],
      "source": [
        "\n",
        "x_test.shape"
      ]
    },
    {
      "cell_type": "code",
      "execution_count": null,
      "metadata": {
        "id": "3srhRTIfwIOw"
      },
      "outputs": [],
      "source": [
        "from sklearn.svm import SVC"
      ]
    },
    {
      "cell_type": "code",
      "execution_count": null,
      "metadata": {
        "id": "5yXnwJCRwZYx"
      },
      "outputs": [],
      "source": [
        "model=SVC(C=10,gamma=5,kernel='linear')"
      ]
    },
    {
      "cell_type": "code",
      "execution_count": null,
      "metadata": {
        "id": "LRdYavt2wg-8"
      },
      "outputs": [],
      "source": [
        "\n",
        "model.fit(x_train,y_train)"
      ]
    },
    {
      "cell_type": "code",
      "execution_count": null,
      "metadata": {
        "id": "7GRY0NbiwjyZ"
      },
      "outputs": [],
      "source": [
        "model.score(x_test,y_test)"
      ]
    },
    {
      "cell_type": "code",
      "execution_count": null,
      "metadata": {
        "id": "-x56zHsYwpVa"
      },
      "outputs": [],
      "source": [
        "model.predict(x_test)"
      ]
    },
    {
      "cell_type": "code",
      "execution_count": null,
      "metadata": {
        "id": "UHU2jBYcww_J"
      },
      "outputs": [],
      "source": [
        "y_predicted=model.predict(x_test)"
      ]
    },
    {
      "cell_type": "code",
      "execution_count": null,
      "metadata": {
        "id": "9ayXMuG-w3F5"
      },
      "outputs": [],
      "source": [
        "from sklearn.metrics import classification_report,confusion_matrix\n",
        "clf=confusion_matrix(y_test,y_predicted)"
      ]
    },
    {
      "cell_type": "code",
      "execution_count": null,
      "metadata": {
        "id": "fre53URpxFJm"
      },
      "outputs": [],
      "source": [
        "clf"
      ]
    },
    {
      "cell_type": "code",
      "execution_count": null,
      "metadata": {
        "id": "umoQu1QGxIjG"
      },
      "outputs": [],
      "source": [
        "import seaborn as sns\n",
        "sns.heatmap(clf,annot=True)"
      ]
    },
    {
      "cell_type": "code",
      "execution_count": null,
      "metadata": {
        "id": "oX4eBWMwxO77"
      },
      "outputs": [],
      "source": [
        "cls=classification_report(y_test,y_predicted)"
      ]
    },
    {
      "cell_type": "code",
      "execution_count": null,
      "metadata": {
        "id": "MV4R_9HkxW0c"
      },
      "outputs": [],
      "source": [
        "print(cls)"
      ]
    },
    {
      "cell_type": "code",
      "execution_count": null,
      "metadata": {
        "id": "KmBnPpD-xX0U"
      },
      "outputs": [],
      "source": [
        "model.predict([[6.7,\t3.0,\t5.2\t,2.3]])"
      ]
    },
    {
      "cell_type": "code",
      "execution_count": null,
      "metadata": {
        "id": "REY4nVi2xoxv"
      },
      "outputs": [],
      "source": [
        "from sklearn.datasets import load_digits"
      ]
    },
    {
      "cell_type": "code",
      "execution_count": null,
      "metadata": {
        "id": "kXPmylQYzG40"
      },
      "outputs": [],
      "source": [
        "digits=load_digits()"
      ]
    },
    {
      "cell_type": "code",
      "execution_count": null,
      "metadata": {
        "id": "pk7ZgSw_zLQK"
      },
      "outputs": [],
      "source": [
        "dir(digits)"
      ]
    },
    {
      "cell_type": "code",
      "execution_count": null,
      "metadata": {
        "id": "uSOHCPx0zYsN"
      },
      "outputs": [],
      "source": [
        "digits.data"
      ]
    },
    {
      "cell_type": "code",
      "execution_count": null,
      "metadata": {
        "id": "i5oW2HQgza3r"
      },
      "outputs": [],
      "source": [
        "plt.matshow(digits.images[9])"
      ]
    },
    {
      "cell_type": "code",
      "execution_count": null,
      "metadata": {
        "id": "6CV0yzugzg-w"
      },
      "outputs": [],
      "source": [
        "for i in range(10):\n",
        "  plt.matshow(digits.images[i])"
      ]
    },
    {
      "cell_type": "code",
      "execution_count": null,
      "metadata": {
        "id": "SbV7JIoGzp3o"
      },
      "outputs": [],
      "source": [
        "digits.feature_names"
      ]
    },
    {
      "cell_type": "code",
      "execution_count": null,
      "metadata": {
        "id": "J03X5Mbez2uP"
      },
      "outputs": [],
      "source": [
        "data=pd.DataFrame(digits.data,columns=[digits.feature_names])"
      ]
    },
    {
      "cell_type": "code",
      "execution_count": null,
      "metadata": {
        "id": "YhObZArS0BxJ"
      },
      "outputs": [],
      "source": [
        "data.head()"
      ]
    },
    {
      "cell_type": "code",
      "execution_count": null,
      "metadata": {
        "id": "Qet8bG-G0I9C"
      },
      "outputs": [],
      "source": [
        "data['target']=digits.target"
      ]
    },
    {
      "cell_type": "code",
      "execution_count": null,
      "metadata": {
        "id": "IvD6eI8j0Spu"
      },
      "outputs": [],
      "source": [
        "data.head()"
      ]
    },
    {
      "cell_type": "code",
      "execution_count": null,
      "metadata": {
        "id": "nSGKkf7C0q7R"
      },
      "outputs": [],
      "source": [
        "data.drop(['digits'],axis=1)"
      ]
    },
    {
      "cell_type": "code",
      "execution_count": null,
      "metadata": {
        "id": "-UgUiiqB0uxx"
      },
      "outputs": [],
      "source": [
        "data[data.target==0].count()"
      ]
    },
    {
      "cell_type": "code",
      "execution_count": null,
      "metadata": {
        "id": "Bwa_vY9109gv"
      },
      "outputs": [],
      "source": [
        "x=data.drop(['target'],axis=1)"
      ]
    },
    {
      "cell_type": "code",
      "execution_count": null,
      "metadata": {
        "id": "1s3EYcja1JCC"
      },
      "outputs": [],
      "source": [
        "y=data.target"
      ]
    },
    {
      "cell_type": "code",
      "execution_count": null,
      "metadata": {
        "id": "48nhKpco1MwA"
      },
      "outputs": [],
      "source": [
        "from sklearn.model_selection import train_test_split\n",
        "x_train,x_test,y_train,y_test=train_test_split(x,y,test_size=0.2)"
      ]
    },
    {
      "cell_type": "code",
      "execution_count": null,
      "metadata": {
        "id": "bUGT31dN1d6a"
      },
      "outputs": [],
      "source": [
        "len(x_train)"
      ]
    },
    {
      "cell_type": "code",
      "execution_count": null,
      "metadata": {
        "id": "eo_w0Tcf1f_6"
      },
      "outputs": [],
      "source": [
        "len(x_test)"
      ]
    },
    {
      "cell_type": "code",
      "execution_count": null,
      "metadata": {
        "id": "uGGDxWfY1j73"
      },
      "outputs": [],
      "source": [
        "from sklearn.svm import SVC"
      ]
    },
    {
      "cell_type": "code",
      "execution_count": null,
      "metadata": {
        "id": "yJBy_a511oIT"
      },
      "outputs": [],
      "source": [
        "model1=SVC(C=4,gamma=2,kernel='poly')"
      ]
    },
    {
      "cell_type": "code",
      "execution_count": null,
      "metadata": {
        "id": "oMUqyqcv1zFK"
      },
      "outputs": [],
      "source": [
        "model1.fit(x_train,y_train)"
      ]
    },
    {
      "cell_type": "code",
      "execution_count": null,
      "metadata": {
        "id": "ftq8X1u412ok"
      },
      "outputs": [],
      "source": [
        "model1.score(x_test,y_test)"
      ]
    },
    {
      "cell_type": "markdown",
      "metadata": {
        "id": "sXTTZXa5odkn"
      },
      "source": [
        "**K-FOLD**"
      ]
    },
    {
      "cell_type": "code",
      "execution_count": null,
      "metadata": {
        "id": "gQN4KngV16Ux"
      },
      "outputs": [],
      "source": [
        "from sklearn.datasets import load_digits"
      ]
    },
    {
      "cell_type": "code",
      "execution_count": null,
      "metadata": {
        "id": "lIMi4V-Oon3b"
      },
      "outputs": [],
      "source": [
        "digit=load_digits()\n",
        "from sklearn.model_selection import train_test_split\n",
        "x_train,x_test,y_train,y_test=train_test_split(digit.data,digit.target,test_size=0.2)"
      ]
    },
    {
      "cell_type": "code",
      "execution_count": null,
      "metadata": {
        "id": "-DXXu-nZpEMq"
      },
      "outputs": [],
      "source": [
        "from sklearn.linear_model import LogisticRegression\n",
        "lr=LogisticRegression()\n",
        "lr.fit(x_train,y_train)\n",
        "lr.score(x_test,y_test)"
      ]
    },
    {
      "cell_type": "code",
      "execution_count": null,
      "metadata": {
        "id": "A8EZKkPwpj50"
      },
      "outputs": [],
      "source": [
        "from sklearn.svm import SVC\n",
        "support=SVC()\n",
        "support.fit(x_train,y_train)\n",
        "support.score(x_test,y_test)"
      ]
    },
    {
      "cell_type": "code",
      "execution_count": null,
      "metadata": {
        "id": "Nc4lAOxIp3Xr"
      },
      "outputs": [],
      "source": [
        "from sklearn.ensemble import RandomForestClassifier\n",
        "random=RandomForestClassifier(n_estimators=4000)\n",
        "random.fit(x_train,y_train)\n",
        "random.score(x_test,y_test)"
      ]
    },
    {
      "cell_type": "code",
      "execution_count": null,
      "metadata": {
        "id": "l16W-4p5qI8O"
      },
      "outputs": [],
      "source": [
        "from sklearn.model_selection import KFold\n",
        "kf=KFold(n_splits=5)\n",
        "kf"
      ]
    },
    {
      "cell_type": "code",
      "execution_count": null,
      "metadata": {
        "id": "Rj9bcOMdtdEs"
      },
      "outputs": [],
      "source": [
        "def get_score(model,x_train,x_test,y_train,y_test):\n",
        "  model.fit(x_train,y_train)\n",
        "  return model.score(x_test,y_test)"
      ]
    },
    {
      "cell_type": "code",
      "execution_count": null,
      "metadata": {
        "id": "87PMnyH3q2nX"
      },
      "outputs": [],
      "source": [
        "from sklearn.model_selection import StratifiedKFold\n",
        "sk=StratifiedKFold(n_splits=5)"
      ]
    },
    {
      "cell_type": "code",
      "execution_count": null,
      "metadata": {
        "id": "oIVRDUhDrpEX"
      },
      "outputs": [],
      "source": [
        "score_lg=[]\n",
        "score_svm=[]\n",
        "score_rf=[]\n",
        "\n",
        "for train_index,test_index in kf.split(digit.data):\n",
        "  x_train,x_test,y_train,y_test=digit.data[train_index],digit.data[test_index] ,\\\n",
        "                                digit.target[train_index],digit.target[test_index]\n",
        "print(get_score(LogisticRegression(),x_train,x_test,y_train,y_test))\n",
        "print(get_score(SVC(),x_train,x_test,y_train,y_test))\n",
        "print(get_score(RandomForestClassifier(n_estimators=100),x_train,x_test,y_train,y_test))"
      ]
    },
    {
      "cell_type": "code",
      "execution_count": null,
      "metadata": {
        "id": "_67a8J1fuEtk"
      },
      "outputs": [],
      "source": [
        "from sklearn.model_selection import cross_val_score\n",
        "cross_val_score(LogisticRegression(),digit.data,digit.target)"
      ]
    },
    {
      "cell_type": "code",
      "execution_count": null,
      "metadata": {
        "id": "Uj5HfvqZv6pc"
      },
      "outputs": [],
      "source": [
        "from sklearn.model_selection import cross_val_score\n",
        "cross_val_score(SVC(),digit.data,digit.target)"
      ]
    },
    {
      "cell_type": "code",
      "execution_count": null,
      "metadata": {
        "id": "DDv6ajT_wDyu"
      },
      "outputs": [],
      "source": [
        "from sklearn.model_selection import cross_val_score\n",
        "cross_val_score(RandomForestClassifier(n_estimators=50),digit.data,digit.target)"
      ]
    },
    {
      "cell_type": "code",
      "execution_count": null,
      "metadata": {
        "id": "rjxo8JW-ux0U"
      },
      "outputs": [],
      "source": [
        "import pandas as pd\n",
        "import numpy as np\n",
        "import matplotlib.pyplot as plt\n"
      ]
    },
    {
      "cell_type": "code",
      "execution_count": null,
      "metadata": {
        "id": "UNbxCnCywLqt"
      },
      "outputs": [],
      "source": [
        "data2=pd.read_csv(\"/content/drive/MyDrive/income.csv\")\n",
        "data2.head()"
      ]
    },
    {
      "cell_type": "code",
      "execution_count": null,
      "metadata": {
        "id": "dijg_Z8MvL84"
      },
      "outputs": [],
      "source": [
        "from sklearn.cluster import KMeans\n",
        "from sklearn.preprocessing import MinMaxScaler"
      ]
    },
    {
      "cell_type": "code",
      "execution_count": null,
      "metadata": {
        "id": "USMiYoDSvWIh"
      },
      "outputs": [],
      "source": [
        "plt.scatter(data2['Age'],data2['Income($)'],marker=\"*\",color=\"red\")"
      ]
    },
    {
      "cell_type": "code",
      "execution_count": null,
      "metadata": {
        "id": "t30Tn3KBwBHl"
      },
      "outputs": [],
      "source": [
        "km=KMeans(n_clusters=3)\n",
        "km"
      ]
    },
    {
      "cell_type": "code",
      "execution_count": null,
      "metadata": {
        "id": "CTe0dZzKwYUD"
      },
      "outputs": [],
      "source": [
        "y_predicted=km.fit_predict(data2[['Age','Income($)']])\n",
        "y_predicted"
      ]
    },
    {
      "cell_type": "code",
      "execution_count": null,
      "metadata": {
        "id": "dz7kNe3Hwtur"
      },
      "outputs": [],
      "source": [
        "data2['clusters']=y_predicted\n",
        "data2.head()"
      ]
    },
    {
      "cell_type": "code",
      "execution_count": null,
      "metadata": {
        "id": "lMfB5KggxH6p"
      },
      "outputs": [],
      "source": [
        "df1=data2[data2.clusters==0]\n",
        "df2=data2[data2.clusters==1]\n",
        "df3=data2[data2.clusters==2]\n",
        "#df4=data2[data2.clusters==3]\n",
        "plt.scatter(df1.Age,df1['Income($)'],marker=\"*\",color=\"red\")\n",
        "plt.scatter(df2.Age,df2['Income($)'],marker=\"*\",color=\"green\")\n",
        "plt.scatter(df3.Age,df3['Income($)'],marker=\"*\",color=\"blue\")\n",
        "#plt.scatter(df4.Age,df4['Income($)'],marker=\"*\",color=\"pink\")\n",
        "plt.xlabel(\"Age\")\n",
        "plt.ylabel(\"Income\")\n",
        "plt.legend()"
      ]
    },
    {
      "cell_type": "code",
      "execution_count": null,
      "metadata": {
        "id": "mrbXsdjmyiZn"
      },
      "outputs": [],
      "source": [
        "scaler=MinMaxScaler()\n",
        "scaler.fit(data2[['Income($)']])\n",
        "data2['Income($)']=scaler.transform(data2[['Income($)']])\n",
        "data2.head()\n",
        "\n",
        "scaler.fit(data2[['Age']])\n",
        "data2['Age']=scaler.transform(data2[['Age']])"
      ]
    },
    {
      "cell_type": "code",
      "execution_count": null,
      "metadata": {
        "id": "tg2EurPy2DC1"
      },
      "outputs": [],
      "source": [
        "data2.head()"
      ]
    },
    {
      "cell_type": "code",
      "execution_count": null,
      "metadata": {
        "id": "eUA2nySQ22iV"
      },
      "outputs": [],
      "source": [
        "km=KMeans(n_clusters=3)\n",
        "km\n",
        "y_predicted=km.fit_predict(data2[['Age','Income($)']])\n",
        "y_predicted"
      ]
    },
    {
      "cell_type": "code",
      "execution_count": null,
      "metadata": {
        "id": "4xKZSsHd3I0a"
      },
      "outputs": [],
      "source": [
        "df1=data2[data2.clusters==0]\n",
        "df2=data2[data2.clusters==1]\n",
        "df3=data2[data2.clusters==2]\n",
        "plt.scatter(km.cluster_centers_[:,0],km.cluster_centers_[:,1],marker=\"+\",color=\"black\",label=\"centroid\")\n",
        "plt.scatter(df1.Age,df1['Income($)'],marker=\"*\",color=\"red\",label=\"df1\")\n",
        "plt.scatter(df2.Age,df2['Income($)'],marker=\"*\",color=\"green\",label=\"df2\")\n",
        "plt.scatter(df3.Age,df3['Income($)'],marker=\"*\",color=\"blue\",label=\"df3\")\n",
        "plt.xlabel(\"Age\")\n",
        "plt.ylabel(\"Income\")\n",
        "plt.legend()"
      ]
    },
    {
      "cell_type": "code",
      "execution_count": null,
      "metadata": {
        "id": "vwgqvlps3gmH"
      },
      "outputs": [],
      "source": [
        "km.cluster_centers_"
      ]
    },
    {
      "cell_type": "code",
      "execution_count": null,
      "metadata": {
        "id": "jLKh2JUY4mkT"
      },
      "outputs": [],
      "source": [
        "k_range=range(1,10)\n",
        "sse=[]\n",
        "for k in k_range:\n",
        "  km=KMeans(n_clusters=k)\n",
        "  km.fit(data2[['Age','Income($)']])\n",
        "  sse.append(km.inertia_)"
      ]
    },
    {
      "cell_type": "code",
      "execution_count": null,
      "metadata": {
        "id": "HmqS7sSf6foX"
      },
      "outputs": [],
      "source": [
        "sse"
      ]
    },
    {
      "cell_type": "code",
      "execution_count": null,
      "metadata": {
        "id": "ZrhhqJq46j6L"
      },
      "outputs": [],
      "source": [
        "plt.xlabel(k)\n",
        "plt.ylabel(\"mean square error\")\n",
        "plt.plot(k_range,sse)"
      ]
    },
    {
      "cell_type": "code",
      "execution_count": null,
      "metadata": {
        "id": "1M_AZ_j861q1"
      },
      "outputs": [],
      "source": [
        "plt.scatter(k_range,sse)"
      ]
    },
    {
      "cell_type": "code",
      "execution_count": null,
      "metadata": {
        "id": "JWAqcEhK69tK"
      },
      "outputs": [],
      "source": [
        "from sklearn.datasets import load_iris\n",
        "iris_data=load_iris()"
      ]
    },
    {
      "cell_type": "code",
      "execution_count": null,
      "metadata": {
        "id": "OmOEPCcF7ng1"
      },
      "outputs": [],
      "source": [
        "dir(iris_data)"
      ]
    },
    {
      "cell_type": "code",
      "execution_count": null,
      "metadata": {
        "id": "pKn0DL3E7tiz"
      },
      "outputs": [],
      "source": [
        "iris_data.data"
      ]
    },
    {
      "cell_type": "code",
      "execution_count": null,
      "metadata": {
        "id": "BPcVp_xh7ww1"
      },
      "outputs": [],
      "source": [
        "iris_data.feature_names"
      ]
    },
    {
      "cell_type": "code",
      "execution_count": null,
      "metadata": {
        "id": "oyebGa0y71my"
      },
      "outputs": [],
      "source": [
        "iris_data.target_names"
      ]
    },
    {
      "cell_type": "code",
      "execution_count": null,
      "metadata": {
        "id": "a3GvNEGl74Vp"
      },
      "outputs": [],
      "source": [
        "data_iris=pd.DataFrame(iris_data.data,columns=iris_data['feature_names'])"
      ]
    },
    {
      "cell_type": "code",
      "execution_count": null,
      "metadata": {
        "id": "brYm70M48HLS"
      },
      "outputs": [],
      "source": [
        "data_iris"
      ]
    },
    {
      "cell_type": "code",
      "execution_count": null,
      "metadata": {
        "id": "KGp2ICIOAIn4"
      },
      "outputs": [],
      "source": [
        "from sklearn.cluster import KMeans\n",
        "km1=KMeans(n_clusters=3)"
      ]
    },
    {
      "cell_type": "code",
      "execution_count": null,
      "metadata": {
        "id": "xwlyqLelDvoK"
      },
      "outputs": [],
      "source": []
    },
    {
      "cell_type": "code",
      "execution_count": null,
      "metadata": {
        "id": "xUE_43qp8R-g"
      },
      "outputs": [],
      "source": [
        "data_iris['target']=iris_data['target']\n",
        "#data_iris['target_names']=iris_data['target_names']"
      ]
    },
    {
      "cell_type": "code",
      "execution_count": null,
      "metadata": {
        "id": "CeztKomJA3Y9"
      },
      "outputs": [],
      "source": []
    },
    {
      "cell_type": "code",
      "execution_count": null,
      "metadata": {
        "id": "GXzAlSHU8bYO"
      },
      "outputs": [],
      "source": [
        "data_iris.head()"
      ]
    },
    {
      "cell_type": "code",
      "execution_count": null,
      "metadata": {
        "id": "QJc0Aq2O8g3s"
      },
      "outputs": [],
      "source": [
        "iris1=data_iris[data_iris.target==0]\n",
        "iris2=data_iris[data_iris.target==1]\n",
        "iris3=data_iris[data_iris.target==2]\n",
        "\n"
      ]
    },
    {
      "cell_type": "code",
      "execution_count": null,
      "metadata": {
        "id": "d9xwrgSa9a2N"
      },
      "outputs": [],
      "source": [
        "plt.scatter(iris1['sepal length (cm)'],iris1['sepal width (cm)'],marker=\"*\",label=\"iris1\")\n",
        "plt.scatter(iris2['sepal length (cm)'],iris2['sepal width (cm)'],marker=\"+\",label=\"iris2\")\n",
        "plt.scatter(iris3['sepal length (cm)'],iris3['sepal width (cm)'],marker=\"+\",label=\"iris2\")"
      ]
    },
    {
      "cell_type": "code",
      "execution_count": null,
      "metadata": {
        "id": "u4ns9noUE2dn"
      },
      "outputs": [],
      "source": [
        "plt.scatter(iris1['petal length (cm)'],iris1['petal width (cm)'],marker=\"*\",label=\"iris1\")\n",
        "plt.scatter(iris2['petal length (cm)'],iris2['petal width (cm)'],marker=\"+\",label=\"iris2\")\n",
        "plt.scatter(iris3['petal length (cm)'],iris3['petal width (cm)'],marker=\"+\",label=\"iris2\")"
      ]
    },
    {
      "cell_type": "code",
      "execution_count": null,
      "metadata": {
        "id": "hI2J8r0-F2q-"
      },
      "outputs": [],
      "source": [
        "data_iris.drop(['petal length (cm)','petal width (cm)'],axis=1)"
      ]
    },
    {
      "cell_type": "code",
      "execution_count": null,
      "metadata": {
        "id": "l9IdwVVLFOkZ"
      },
      "outputs": [],
      "source": [
        "y_predicted=km1.fit_predict(data_iris[['sepal length (cm)','sepal width (cm)','target']])\n",
        "y_predicted"
      ]
    },
    {
      "cell_type": "code",
      "execution_count": null,
      "metadata": {
        "id": "LBsPz4kdEtQz"
      },
      "outputs": [],
      "source": [
        "k_range=range(1,10)\n",
        "sse=[]\n",
        "for k in k_range:\n",
        "  km=KMeans(n_clusters=k)\n",
        "  km.fit(data_iris)\n",
        "  sse.append(km.inertia_)"
      ]
    },
    {
      "cell_type": "code",
      "execution_count": null,
      "metadata": {
        "id": "8ATozHnJJygv"
      },
      "outputs": [],
      "source": [
        "sse"
      ]
    },
    {
      "cell_type": "code",
      "execution_count": null,
      "metadata": {
        "id": "JSfNi7BwJ0z2"
      },
      "outputs": [],
      "source": [
        "plt.plot(k_range,sse)"
      ]
    },
    {
      "cell_type": "code",
      "execution_count": null,
      "metadata": {
        "id": "_v-9inY9J5fb"
      },
      "outputs": [],
      "source": [
        "plt.scatter(k_range,sse)"
      ]
    },
    {
      "cell_type": "code",
      "execution_count": null,
      "metadata": {
        "id": "GqHEHFekJ-BL"
      },
      "outputs": [],
      "source": [
        "import pandas as pd\n",
        "data10=pd.read_csv(\"/content/drive/MyDrive/titanic.csv\")\n",
        "data10.head()\n"
      ]
    },
    {
      "cell_type": "code",
      "execution_count": null,
      "metadata": {
        "id": "bKeqH9X4NHgh"
      },
      "outputs": [],
      "source": [
        "data10.drop(['PassengerId','Name','SibSp','Parch','Ticket','Embarked'],inplace=True,axis=1)\n",
        "data10.head()"
      ]
    },
    {
      "cell_type": "code",
      "execution_count": null,
      "metadata": {
        "id": "RX04pihuOPpU"
      },
      "outputs": [],
      "source": [
        "data10.drop(['Cabin'],axis=1,inplace=True)\n",
        "data10"
      ]
    },
    {
      "cell_type": "code",
      "execution_count": null,
      "metadata": {
        "id": "gye5OX7xP19K"
      },
      "outputs": [],
      "source": [
        "from sklearn.model_selection import train_test_split"
      ]
    },
    {
      "cell_type": "code",
      "execution_count": null,
      "metadata": {
        "id": "ns1Xy-BKQR8R"
      },
      "outputs": [],
      "source": [
        "x=data10.drop(['Survived'],axis=1)"
      ]
    },
    {
      "cell_type": "code",
      "execution_count": null,
      "metadata": {
        "id": "_lSx-eI2QdiN"
      },
      "outputs": [],
      "source": [
        "y=data10.Survived"
      ]
    },
    {
      "cell_type": "code",
      "execution_count": null,
      "metadata": {
        "id": "5EyU8yqQtnbC"
      },
      "outputs": [],
      "source": [
        "dummies=pd.get_dummies(x.Sex)\n",
        "dummies"
      ]
    },
    {
      "cell_type": "code",
      "execution_count": null,
      "metadata": {
        "id": "4YICe_WRt4lD"
      },
      "outputs": [],
      "source": [
        "x=pd.concat([x,dummies],axis=1)\n",
        "x.head()"
      ]
    },
    {
      "cell_type": "code",
      "execution_count": null,
      "metadata": {
        "id": "2VEx3WS7uGdR"
      },
      "outputs": [],
      "source": [
        "x.drop(['Sex'],axis=1,inplace=True)\n",
        "x.head()"
      ]
    },
    {
      "cell_type": "code",
      "execution_count": null,
      "metadata": {
        "id": "aghlY9SaQqyH"
      },
      "outputs": [],
      "source": [
        "x_train,x_test,y_train,y_test=train_test_split(x,y,test_size=0.2)"
      ]
    },
    {
      "cell_type": "code",
      "execution_count": null,
      "metadata": {
        "id": "dd3hgK4NRwIr"
      },
      "outputs": [],
      "source": [
        "len(x_train)"
      ]
    },
    {
      "cell_type": "code",
      "execution_count": null,
      "metadata": {
        "id": "DOpvrSKkR2Qp"
      },
      "outputs": [],
      "source": [
        "x.columns[x.isna().any()]"
      ]
    },
    {
      "cell_type": "code",
      "execution_count": null,
      "metadata": {
        "id": "YboNYa7TvzFC"
      },
      "outputs": [],
      "source": [
        "x.Age[:10]"
      ]
    },
    {
      "cell_type": "code",
      "execution_count": null,
      "metadata": {
        "id": "SIPeucTjwoq_"
      },
      "outputs": [],
      "source": [
        "x.Age=x.Age.fillna(x.Age.mean())\n",
        "x.tail()"
      ]
    },
    {
      "cell_type": "code",
      "execution_count": null,
      "metadata": {
        "id": "Pu7jR13lw4Y5"
      },
      "outputs": [],
      "source": [
        "x_train,x_test,y_train,y_test=train_test_split(x,y,test_size=0.2)"
      ]
    },
    {
      "cell_type": "code",
      "execution_count": null,
      "metadata": {
        "id": "vMNejXG95i2b"
      },
      "outputs": [],
      "source": [
        "len(x_train)"
      ]
    },
    {
      "cell_type": "code",
      "execution_count": null,
      "metadata": {
        "id": "lt1g2fq75mJg"
      },
      "outputs": [],
      "source": [
        "from sklearn.naive_bayes import GaussianNB\n",
        "gb=GaussianNB()"
      ]
    },
    {
      "cell_type": "code",
      "execution_count": null,
      "metadata": {
        "id": "vRnV0VaL51dB"
      },
      "outputs": [],
      "source": [
        "gb.fit(x_train,y_train)"
      ]
    },
    {
      "cell_type": "code",
      "execution_count": null,
      "metadata": {
        "id": "NphMSzp86KTT"
      },
      "outputs": [],
      "source": [
        "gb.score(x_test,y_test)"
      ]
    },
    {
      "cell_type": "code",
      "execution_count": null,
      "metadata": {
        "id": "xfpBRZSE6PDi"
      },
      "outputs": [],
      "source": [
        "spam=pd.read_csv(\"/content/drive/MyDrive/Colab Notebooks/spam.csv\")\n",
        "spam.head()"
      ]
    },
    {
      "cell_type": "code",
      "execution_count": null,
      "metadata": {
        "id": "EyyJDQAi-gBZ"
      },
      "outputs": [],
      "source": [
        "spam.groupby(\"Category\").describe()"
      ]
    },
    {
      "cell_type": "code",
      "execution_count": null,
      "metadata": {
        "id": "rhGecKPi-r1N"
      },
      "outputs": [],
      "source": [
        "spam['spamm']=spam.Category.apply(lambda x:1 if x=='spam' else 0)"
      ]
    },
    {
      "cell_type": "code",
      "execution_count": null,
      "metadata": {
        "id": "5W5-xL5D_I1H"
      },
      "outputs": [],
      "source": [
        "spam.head()"
      ]
    },
    {
      "cell_type": "code",
      "execution_count": null,
      "metadata": {
        "id": "iCwo8BgK_KrO"
      },
      "outputs": [],
      "source": [
        "from sklearn.model_selection import train_test_split"
      ]
    },
    {
      "cell_type": "code",
      "execution_count": null,
      "metadata": {
        "id": "cQagx5rj_f4w"
      },
      "outputs": [],
      "source": [
        "x_train,x_test,y_train,y_test=train_test_split(spam.Message,spam.spamm,test_size=0.2)"
      ]
    },
    {
      "cell_type": "code",
      "execution_count": null,
      "metadata": {
        "id": "ZHzDDMX7_uaF"
      },
      "outputs": [],
      "source": [
        "from sklearn.feature_extraction.text import CountVectorizer\n",
        "v=CountVectorizer()\n",
        "x_train_vector=v.fit_transform(x_train.values)\n",
        "x_train_vector.toarray()[0:5]"
      ]
    },
    {
      "cell_type": "code",
      "execution_count": null,
      "metadata": {
        "id": "wVbkipIQAS-7"
      },
      "outputs": [],
      "source": [
        "from sklearn.naive_bayes import MultinomialNB\n",
        "mb=MultinomialNB()\n",
        "mb.fit(x_train_vector,y_train)"
      ]
    },
    {
      "cell_type": "code",
      "execution_count": null,
      "metadata": {
        "id": "LG7aHj_UBbRs"
      },
      "outputs": [],
      "source": [
        "email=[\n",
        "    \"Free entry in 2 a wkly comp to win FA Cup final tkts 21st May 2005. Text FA to 87121 to receive entry question(std txt rate)T&C's apply 08452810075over18's\"\n",
        "]\n",
        "email_count=v.transform(email)\n",
        "mb.predict(email_count)"
      ]
    },
    {
      "cell_type": "code",
      "execution_count": null,
      "metadata": {
        "id": "lvN2Ej2EB9A2"
      },
      "outputs": [],
      "source": [
        "x_test_vector=v.transform(x_test)\n",
        "mb.score(x_test_vector,y_test)"
      ]
    },
    {
      "cell_type": "code",
      "execution_count": null,
      "metadata": {
        "id": "BxydudrjCJBD"
      },
      "outputs": [],
      "source": [
        "from sklearn.pipeline import Pipeline\n",
        "pipe=Pipeline([\n",
        "   ('vector',CountVectorizer()),\n",
        "   ('mb',MultinomialNB())\n",
        "])"
      ]
    },
    {
      "cell_type": "code",
      "execution_count": null,
      "metadata": {
        "id": "9-AQ9djqDgiP"
      },
      "outputs": [],
      "source": [
        "pipe.fit(x_train,y_train)"
      ]
    },
    {
      "cell_type": "code",
      "execution_count": null,
      "metadata": {
        "id": "Kw_HgGvkDk-_"
      },
      "outputs": [],
      "source": [
        "pipe.score(x_test,y_test)"
      ]
    },
    {
      "cell_type": "code",
      "execution_count": null,
      "metadata": {
        "id": "8eZCtR3CDo3F"
      },
      "outputs": [],
      "source": [
        "from sklearn.pipeline import Pipeline\n",
        "from sklearn.naive_bayes import BernoulliNB\n",
        "pipe1=([\n",
        "    ('vector',CountVectorizer()),\n",
        "    ('fb',BernoulliNB())\n",
        "\n",
        "])"
      ]
    },
    {
      "cell_type": "code",
      "execution_count": null,
      "metadata": {
        "id": "5jg9aVVPFDH9"
      },
      "outputs": [],
      "source": [
        "from sklearn.datasets import load_wine\n",
        "wines=load_wine()"
      ]
    },
    {
      "cell_type": "code",
      "execution_count": null,
      "metadata": {
        "id": "v3M1X8FyFv37"
      },
      "outputs": [],
      "source": [
        "dir(wines)"
      ]
    },
    {
      "cell_type": "code",
      "execution_count": null,
      "metadata": {
        "id": "YhXSvmMnFx9y"
      },
      "outputs": [],
      "source": [
        "wines.feature_names"
      ]
    },
    {
      "cell_type": "markdown",
      "metadata": {
        "id": "mxDGrN-EGJ-k"
      },
      "source": []
    },
    {
      "cell_type": "code",
      "execution_count": null,
      "metadata": {
        "id": "EEoCsB6JF2Ta"
      },
      "outputs": [],
      "source": [
        "data_wine=pd.DataFrame(wines.data,columns=wines['feature_names'])"
      ]
    },
    {
      "cell_type": "code",
      "execution_count": null,
      "metadata": {
        "id": "JN6b1-RgGEIU"
      },
      "outputs": [],
      "source": [
        "data_wine.head()"
      ]
    },
    {
      "cell_type": "code",
      "execution_count": null,
      "metadata": {
        "id": "OmAECAv9GN7j"
      },
      "outputs": [],
      "source": [
        "data_wine['target']=wines.target"
      ]
    },
    {
      "cell_type": "code",
      "execution_count": null,
      "metadata": {
        "id": "k7bYCxemGaA0"
      },
      "outputs": [],
      "source": [
        "data_wine.head()"
      ]
    },
    {
      "cell_type": "code",
      "execution_count": null,
      "metadata": {
        "id": "Pd1iraPcGc35"
      },
      "outputs": [],
      "source": [
        "data_wine[data_wine.target==0].count()"
      ]
    },
    {
      "cell_type": "code",
      "execution_count": null,
      "metadata": {
        "id": "OaYELWXxGujZ"
      },
      "outputs": [],
      "source": [
        "data_wine[data_wine.target==1].count()"
      ]
    },
    {
      "cell_type": "code",
      "execution_count": null,
      "metadata": {
        "id": "nJhoaQufG8UN"
      },
      "outputs": [],
      "source": [
        "data_wine[data_wine.target==2].count()"
      ]
    },
    {
      "cell_type": "code",
      "execution_count": null,
      "metadata": {
        "id": "nRVDZuWfG-5u"
      },
      "outputs": [],
      "source": [
        "\n",
        "from sklearn.model_selection import train_test_split\n",
        "x_train,x_test,y_train,y_test=train_test_split(wines.data,wines.target,test_size=0.2)"
      ]
    },
    {
      "cell_type": "code",
      "execution_count": null,
      "metadata": {
        "id": "s0nYfrTLHhve"
      },
      "outputs": [],
      "source": [
        "from sklearn.pipeline import Pipeline\n",
        "pipe3=Pipeline([\n",
        "\n",
        "   ('mb',MultinomialNB())\n",
        "])\n",
        "\n",
        "pipe3.fit(x_train,y_train)\n",
        "pipe3.score(x_test,y_test)"
      ]
    },
    {
      "cell_type": "code",
      "execution_count": null,
      "metadata": {
        "id": "LfNvWXtdH8gn"
      },
      "outputs": [],
      "source": [
        "from sklearn.pipeline import Pipeline\n",
        "pipe4=Pipeline([\n",
        "\n",
        "   ('gb',GaussianNB())\n",
        "])\n",
        "\n",
        "pipe4.fit(x_train,y_train)\n",
        "pipe4.score(x_test,y_test)"
      ]
    },
    {
      "cell_type": "code",
      "execution_count": null,
      "metadata": {
        "id": "PScMywj7IVwY"
      },
      "outputs": [],
      "source": [
        "from sklearn.datasets import load_iris\n",
        "data11=load_iris()\n",
        "from sklearn.svm import SVC\n",
        "from sklearn.model_selection import train_test_split\n",
        "import pandas as pd"
      ]
    },
    {
      "cell_type": "code",
      "execution_count": null,
      "metadata": {
        "id": "9mpLNqnN8FnN"
      },
      "outputs": [],
      "source": [
        "dir(data11)"
      ]
    },
    {
      "cell_type": "code",
      "execution_count": null,
      "metadata": {
        "id": "gAgHrCWL8lD_"
      },
      "outputs": [],
      "source": []
    },
    {
      "cell_type": "code",
      "execution_count": null,
      "metadata": {
        "id": "wIMkC-9k8XnL"
      },
      "outputs": [],
      "source": [
        "data12=pd.DataFrame(data11.data,columns=data11['feature_names'])\n",
        "data12['flower_names']=data11.target"
      ]
    },
    {
      "cell_type": "code",
      "execution_count": null,
      "metadata": {
        "id": "J0BM1YmC8slX"
      },
      "outputs": [],
      "source": [
        "data12.head()"
      ]
    },
    {
      "cell_type": "code",
      "execution_count": null,
      "metadata": {
        "id": "ryW7VAYA8uqI"
      },
      "outputs": [],
      "source": [
        "x_train,x_test,y_train,y_test=train_test_split(data11.data,data11.target,test_size=0.2)"
      ]
    },
    {
      "cell_type": "code",
      "execution_count": null,
      "metadata": {
        "id": "lDixU3cV-9nJ"
      },
      "outputs": [],
      "source": [
        "len(x_train)"
      ]
    },
    {
      "cell_type": "code",
      "execution_count": null,
      "metadata": {
        "id": "2xwJRohw_BeQ"
      },
      "outputs": [],
      "source": [
        "svm1=SVC(kernel='rbf',C=10,gamma=\"auto\")\n",
        "svm1.fit(x_train,y_train)\n",
        "svm1.score(x_test,y_test)"
      ]
    },
    {
      "cell_type": "code",
      "execution_count": null,
      "metadata": {
        "id": "lnfol5rX_cNn"
      },
      "outputs": [],
      "source": [
        "from sklearn.model_selection  import cross_val_score"
      ]
    },
    {
      "cell_type": "code",
      "execution_count": null,
      "metadata": {
        "id": "V7f53cthCvBO"
      },
      "outputs": [],
      "source": [
        "from sklearn.svm import SVC\n"
      ]
    },
    {
      "cell_type": "code",
      "execution_count": null,
      "metadata": {
        "id": "-5eudSKNBY2J"
      },
      "outputs": [],
      "source": [
        "model = SVC(kernel='rbf', gamma='auto', C=10)\n",
        "scores = cross_val_score(model, data11.data, data11.target,cv=5)\n",
        "scores"
      ]
    },
    {
      "cell_type": "code",
      "execution_count": null,
      "metadata": {
        "id": "whcOVpHWD2Hp"
      },
      "outputs": [],
      "source": [
        "model = SVC(kernel='linear', gamma='auto', C=10)\n",
        "scores = cross_val_score(model, data11.data, data11.target,cv=5)\n",
        "scores"
      ]
    },
    {
      "cell_type": "code",
      "execution_count": null,
      "metadata": {
        "id": "verqkaeUERBn"
      },
      "outputs": [],
      "source": [
        "model = SVC(kernel='rbf', gamma='auto', C=30)\n",
        "scores = cross_val_score(model, data11.data, data11.target,cv=5)\n",
        "scores"
      ]
    },
    {
      "cell_type": "code",
      "execution_count": null,
      "metadata": {
        "id": "8n2Xy9I2ET6F"
      },
      "outputs": [],
      "source": [
        "from sklearn.model_selection import GridSearchCV\n",
        "from sklearn.svm import SVC\n",
        "clr=GridSearchCV(SVC(gamma='auto'),{\n",
        "    'C':[1,10,20],\n",
        "    'kernel':['linear','rbf']\n",
        "} ,cv=5,return_train_score=False)\n",
        "clr.fit(data11.data,data11.target)\n",
        "clr.score(data11.data,data11.target)"
      ]
    },
    {
      "cell_type": "code",
      "execution_count": null,
      "metadata": {
        "id": "NjDrelTnF4bS"
      },
      "outputs": [],
      "source": [
        "dir(clr)"
      ]
    },
    {
      "cell_type": "code",
      "execution_count": null,
      "metadata": {
        "id": "4sS0h_NXGZEF"
      },
      "outputs": [],
      "source": [
        "clr.cv_results_"
      ]
    },
    {
      "cell_type": "code",
      "execution_count": null,
      "metadata": {
        "id": "8_WYSkh3Gnv2"
      },
      "outputs": [],
      "source": [
        "pd.DataFrame(clr.cv_results_)"
      ]
    },
    {
      "cell_type": "code",
      "execution_count": null,
      "metadata": {
        "id": "pDzP7ElXGw5m"
      },
      "outputs": [],
      "source": [
        "clr.best_score_"
      ]
    },
    {
      "cell_type": "code",
      "execution_count": null,
      "metadata": {
        "id": "OVCj8WGHG6Em"
      },
      "outputs": [],
      "source": [
        "clr.best_params_"
      ]
    },
    {
      "cell_type": "code",
      "execution_count": null,
      "metadata": {
        "id": "LKwYR5bNG9p_"
      },
      "outputs": [],
      "source": [
        "clr.best_estimator_"
      ]
    },
    {
      "cell_type": "code",
      "execution_count": null,
      "metadata": {
        "id": "sUPTTdWUHA7j"
      },
      "outputs": [],
      "source": [
        "from sklearn.model_selection import RandomizedSearchCV\n",
        "clr1=RandomizedSearchCV(SVC(gamma='auto'),{\n",
        "    'C':[5,10,20,30,50],\n",
        "    'kernel':['rbf','linear','poly']\n",
        "},cv=5,return_train_score=False,n_iter=10)\n",
        "clr1.fit(data11.data,data11.target)"
      ]
    },
    {
      "cell_type": "code",
      "execution_count": null,
      "metadata": {
        "id": "LWcoM1ZJH8hs"
      },
      "outputs": [],
      "source": [
        "clr1.cv_results_"
      ]
    },
    {
      "cell_type": "code",
      "execution_count": null,
      "metadata": {
        "id": "SawhDqqdIEMs"
      },
      "outputs": [],
      "source": [
        "clr1.best_estimator_"
      ]
    },
    {
      "cell_type": "code",
      "execution_count": null,
      "metadata": {
        "id": "joxPoi6OIG9Y"
      },
      "outputs": [],
      "source": [
        "clr1.best_score_"
      ]
    },
    {
      "cell_type": "code",
      "execution_count": null,
      "metadata": {
        "id": "_NTbq0AHIJ_K"
      },
      "outputs": [],
      "source": [
        "clr1.best_params_"
      ]
    },
    {
      "cell_type": "code",
      "execution_count": null,
      "metadata": {
        "id": "co9woTiIINgT"
      },
      "outputs": [],
      "source": [
        "pd.DataFrame(clr1.cv_results_)[['param_C','param_kernel','mean_test_score']]"
      ]
    },
    {
      "cell_type": "code",
      "execution_count": null,
      "metadata": {
        "id": "_KsBfBEXI-ew"
      },
      "outputs": [],
      "source": [
        "pd.DataFrame(clr.cv_results_)[['param_C','param_kernel','mean_test_score']]"
      ]
    },
    {
      "cell_type": "code",
      "execution_count": null,
      "metadata": {
        "id": "TsTm8yZGJFsW"
      },
      "outputs": [],
      "source": [
        "from sklearn.datasets import load_digits\n",
        "digit1=load_digits()"
      ]
    },
    {
      "cell_type": "code",
      "execution_count": null,
      "metadata": {
        "id": "HFnOfKURGPT7"
      },
      "outputs": [],
      "source": [
        "dir(digit1)"
      ]
    },
    {
      "cell_type": "code",
      "execution_count": null,
      "metadata": {
        "id": "BpMHwPObGWcg"
      },
      "outputs": [],
      "source": [
        "digit1.data"
      ]
    },
    {
      "cell_type": "code",
      "execution_count": null,
      "metadata": {
        "id": "-op1xHosGb1n"
      },
      "outputs": [],
      "source": [
        "import pandas as pd\n",
        "digit2=pd.DataFrame(digit1.data,columns=digit1['feature_names'])\n",
        "digit2['target']=digit1.target"
      ]
    },
    {
      "cell_type": "code",
      "execution_count": null,
      "metadata": {
        "id": "-W2I61Y4GtD7"
      },
      "outputs": [],
      "source": [
        "digit2.head()"
      ]
    },
    {
      "cell_type": "code",
      "execution_count": null,
      "metadata": {
        "id": "Xndjr5yvHJt8"
      },
      "outputs": [],
      "source": [
        "from sklearn.model_selection import train_test_split\n",
        "x_train,x_test,y_train,y_test=train_test_split(digit1.data,digit1.target,test_size=0.2)"
      ]
    },
    {
      "cell_type": "code",
      "execution_count": null,
      "metadata": {
        "id": "tXV-RqAIHd_O"
      },
      "outputs": [],
      "source": [
        "from sklearn.svm import SVC\n",
        "from sklearn.ensemble import RandomForestClassifier\n",
        "from sklearn.linear_model import LogisticRegression\n",
        "from sklearn.naive_bayes import MultinomialNB\n",
        "from sklearn.naive_bayes import GaussianNB\n",
        "from sklearn.model_selection import GridSearchCV"
      ]
    },
    {
      "cell_type": "code",
      "execution_count": null,
      "metadata": {
        "id": "uLJtHRmSIwKQ"
      },
      "outputs": [],
      "source": [
        "model_params={\n",
        "    'svm':{\n",
        "        'model':SVC(gamma='auto'),\n",
        "        'params':{\n",
        "        'kernel':['rbf','linear'],\n",
        "        'C':[2,4,6,8]}\n",
        "\n",
        "    },\n",
        "    'random_forset':{\n",
        "        'model':RandomForestClassifier(),\n",
        "        'params':{\n",
        "            'n_estimators':[10,20]\n",
        "        }\n",
        "    },\n",
        "    'Log':{\n",
        "        'model':LogisticRegression(solver='liblinear',multi_class='auto'),\n",
        "        'params':{\n",
        "          'C':[12,24,68]\n",
        "        }\n",
        "    }\n",
        "\n",
        "}"
      ]
    },
    {
      "cell_type": "code",
      "execution_count": null,
      "metadata": {
        "id": "U8wXfg46LKMZ"
      },
      "outputs": [],
      "source": [
        "scores=[]\n",
        "for model_name ,mp  in model_params.items():\n",
        "  clf=GridSearchCV(mp['model'],mp['params'],cv=5,return_train_score=False)\n",
        "  clf.fit(digit1.data,digit1.target)\n",
        "  scores.append({\n",
        "      'model':model_name,\n",
        "      'best_param':clf.best_params_,\n",
        "      'best_score':clf.best_score_\n",
        "  })"
      ]
    },
    {
      "cell_type": "code",
      "execution_count": null,
      "metadata": {
        "id": "UQG_zdw8MxtA"
      },
      "outputs": [],
      "source": [
        "scores"
      ]
    },
    {
      "cell_type": "code",
      "execution_count": null,
      "metadata": {
        "id": "0wRd34uiOEuD"
      },
      "outputs": [],
      "source": [
        "from sklearn.datasets import load_diabetes"
      ]
    },
    {
      "cell_type": "code",
      "execution_count": null,
      "metadata": {
        "id": "JNMRjHbEQDSf"
      },
      "outputs": [],
      "source": [
        "diabetes=load_diabetes()"
      ]
    },
    {
      "cell_type": "code",
      "execution_count": null,
      "metadata": {
        "id": "Qs2zfGKPQINJ"
      },
      "outputs": [],
      "source": [
        "dir(diabetes)"
      ]
    },
    {
      "cell_type": "code",
      "execution_count": null,
      "metadata": {
        "id": "rHDMywawRYNI"
      },
      "outputs": [],
      "source": [
        "diabetes.DESCR"
      ]
    },
    {
      "cell_type": "code",
      "execution_count": null,
      "metadata": {
        "id": "rKyR3Qv9QXmN"
      },
      "outputs": [],
      "source": [
        "diabetes.data"
      ]
    },
    {
      "cell_type": "code",
      "execution_count": null,
      "metadata": {
        "id": "EIWsMyWjQcm_"
      },
      "outputs": [],
      "source": [
        "diabetes.feature_names"
      ]
    },
    {
      "cell_type": "code",
      "execution_count": null,
      "metadata": {
        "id": "67ZMh7O7Qg1D"
      },
      "outputs": [],
      "source": [
        "diabetes.target"
      ]
    },
    {
      "cell_type": "code",
      "execution_count": null,
      "metadata": {
        "id": "ilqH6l81Qk2_"
      },
      "outputs": [],
      "source": [
        "import pandas as pd\n",
        "diabetes1=pd.DataFrame(diabetes.data,columns=diabetes['feature_names'])"
      ]
    },
    {
      "cell_type": "code",
      "execution_count": null,
      "metadata": {
        "id": "Cs3QpNV3QxOh"
      },
      "outputs": [],
      "source": [
        "diabetes1['target']=diabetes.target"
      ]
    },
    {
      "cell_type": "code",
      "execution_count": null,
      "metadata": {
        "id": "2eip4mg0Q7SE"
      },
      "outputs": [],
      "source": [
        "diabetes1.head()"
      ]
    },
    {
      "cell_type": "code",
      "execution_count": null,
      "metadata": {
        "id": "YW8yHC3OQ_G7"
      },
      "outputs": [],
      "source": [
        "diabetes1.age.isnull().sum()"
      ]
    },
    {
      "cell_type": "code",
      "execution_count": null,
      "metadata": {
        "id": "XzU-PDSBRNSC"
      },
      "outputs": [],
      "source": [
        "import matplotlib.pyplot as plt\n",
        "plt.scatter(diabetes1.age,diabetes1.bp,color=\"purple\",marker=\"*\")\n",
        "plt.xlabel(\"Age\")\n",
        "plt.ylabel(\"bmi\")\n",
        "plt.legend()"
      ]
    },
    {
      "cell_type": "code",
      "execution_count": null,
      "metadata": {
        "id": "95yN_fXgVaCH"
      },
      "outputs": [],
      "source": [
        "from sklearn.model_selection import GridSearchCV\n",
        "from sklearn.linear_model import LinearRegression\n",
        "from sklearn.svm import SVC\n",
        "from sklearn. ensemble import RandomForestRegressor\n",
        "from sklearn.naive_bayes import GaussianNB"
      ]
    },
    {
      "cell_type": "code",
      "execution_count": null,
      "metadata": {
        "id": "U9CBRNqDD_bx"
      },
      "outputs": [],
      "source": [
        "model_param={\n",
        "    'linear':{\n",
        "        'model':LinearRegression(),\n",
        "        'params':{\n",
        "           'n_jobs'    : [1,2,3,4]\n",
        "        }\n",
        "    },\n",
        "    'svm':{\n",
        "        'model':SVC(),\n",
        "        'params':{\n",
        "            'C':[1,2,3],\n",
        "            'kernel':['rbf','linear']\n",
        "        }\n",
        "    },\n",
        "    'random':{\n",
        "        'model':RandomForestRegressor(),\n",
        "        'params':{\n",
        "            'n_estimators':[1,2,3]\n",
        "        }\n",
        "\n",
        "    }\n",
        "}"
      ]
    },
    {
      "cell_type": "code",
      "execution_count": null,
      "metadata": {
        "id": "VUi85_OmF6Fe"
      },
      "outputs": [],
      "source": [
        "scores=[]\n",
        "for model_name ,mp  in model_param.items():\n",
        "  clf=GridSearchCV(mp['model'],mp['params'],cv=5,return_train_score=False)\n",
        "  clf.fit(diabetes.data,diabetes.target)\n",
        "  scores.append({\n",
        "      'model':model_name,\n",
        "      'best_param':clf.best_params_,\n",
        "      'best_score':clf.best_score_\n",
        "  })"
      ]
    },
    {
      "cell_type": "code",
      "execution_count": null,
      "metadata": {
        "id": "lO4CiwiKGWaC"
      },
      "outputs": [],
      "source": [
        "scores"
      ]
    },
    {
      "cell_type": "code",
      "execution_count": null,
      "metadata": {
        "id": "iJ2kCm9GIWrd"
      },
      "outputs": [],
      "source": [
        "import spacy"
      ]
    },
    {
      "cell_type": "code",
      "source": [
        "nlp=spacy.load(\"en_core_web_sm\")"
      ],
      "metadata": {
        "id": "-pSiMVdYmdan"
      },
      "execution_count": null,
      "outputs": []
    },
    {
      "cell_type": "code",
      "source": [
        "doc=nlp(\"In their range of colour, size, form, and anatomical arrangement, flowers present a seemingly endless variety of combinations. They range in size from minute blossoms to giant blooms. In some plants, such as poppy, magnolia, tulip, and petunia, each flower is relatively large and showy and is produced singly, while in other plants, such as aster, snapdragon, and lilac, the individual flowers may be very small and are borne in a distinctive cluster known as an inflorescence. Regardless of their variety, all flowers have a uniform function, the reproduction of the species through the production of seed.\")"
      ],
      "metadata": {
        "id": "y35KL0Sfml8r"
      },
      "execution_count": null,
      "outputs": []
    },
    {
      "cell_type": "code",
      "source": [
        "\n",
        "for token in doc:\n",
        "  print(token)"
      ],
      "metadata": {
        "id": "wfipRKibnHkj"
      },
      "execution_count": null,
      "outputs": []
    },
    {
      "cell_type": "code",
      "source": [
        "doc[100]"
      ],
      "metadata": {
        "id": "J1P25z5_nRLt"
      },
      "execution_count": null,
      "outputs": []
    },
    {
      "cell_type": "code",
      "source": [
        "doc=nlp(\"let's go to N.Y.!\")"
      ],
      "metadata": {
        "id": "N6fnoCtUnwVM"
      },
      "execution_count": null,
      "outputs": []
    },
    {
      "cell_type": "code",
      "source": [
        "for token in doc:\n",
        "  print(token)"
      ],
      "metadata": {
        "id": "s0EfJMuMo1yl"
      },
      "execution_count": null,
      "outputs": []
    },
    {
      "cell_type": "code",
      "source": [
        "type(nlp)"
      ],
      "metadata": {
        "id": "SDHHfdfEo6C1"
      },
      "execution_count": null,
      "outputs": []
    },
    {
      "cell_type": "code",
      "source": [
        "type(doc)"
      ],
      "metadata": {
        "id": "EhKTfKgBpIq_"
      },
      "execution_count": null,
      "outputs": []
    },
    {
      "cell_type": "code",
      "source": [
        "token0=doc[1]"
      ],
      "metadata": {
        "id": "R3JieTntpNmO"
      },
      "execution_count": null,
      "outputs": []
    },
    {
      "cell_type": "code",
      "source": [
        "token0"
      ],
      "metadata": {
        "id": "zLHyWxHdp7xw"
      },
      "execution_count": null,
      "outputs": []
    },
    {
      "cell_type": "code",
      "source": [
        "token0.is_quote"
      ],
      "metadata": {
        "id": "AdX3LBxFp9RD"
      },
      "execution_count": null,
      "outputs": []
    },
    {
      "cell_type": "code",
      "source": [
        "doc=nlp(\"In their range of colour, size, form, and anatomical arrangement, flowers present a seemingly endless variety of combinations. They range in size from minute blossoms to giant blooms. In some plants, such as poppy, magnolia, tulip, and petunia, each flower is relatively large and showy and is produced singly, while in other plants, such as aster, snapdragon, and lilac, the individual flowers may be very small and are borne in a distinctive cluster known as an inflorescence. Regardless of their variety, all flowers have a uniform function, the reproduction of the species through the production of seed.\")"
      ],
      "metadata": {
        "id": "JKAeHNvjqCMD"
      },
      "execution_count": null,
      "outputs": []
    },
    {
      "cell_type": "code",
      "source": [
        "for token in doc:\n",
        "  print(token, '===>',\"index :\",token.i,\n",
        "        \"is_alpha :\",token.is_alpha,\n",
        "        \"is_punct:\",token.is_punct,\n",
        "        \"like_num :\",token.like_num,\n",
        "        \"is_currency :\",token.is_currency,)"
      ],
      "metadata": {
        "id": "TpI9KQPNqOov"
      },
      "execution_count": null,
      "outputs": []
    },
    {
      "cell_type": "code",
      "source": [
        "nlp=spacy.blank(\"hi\")"
      ],
      "metadata": {
        "id": "P79ibG97q5GO"
      },
      "execution_count": null,
      "outputs": []
    },
    {
      "cell_type": "code",
      "source": [
        "doc=nlp(\"निर्वाचित विषय वस्तु विकिपीडिया की श्रेष्ठतम् विषय वस्तु हैं। यह वह लेख, चित्र तथा अन्य योगदान हैं जो विकिपीडिया को आगे बढ़ाने वाले प्रयासों को दर्शाते हैं। निर्वाचित विषय वस्तु एक विशेष परख के पश्चात् ही चुनी जाती हैं। पृष्ठ के ऊपर के दहिनी भाग में एक छोटा पीला सितारा निर्वाचित विषय वस्तु को दर्शाता है।\")"
      ],
      "metadata": {
        "id": "lecwjpfT0qiB"
      },
      "execution_count": null,
      "outputs": []
    },
    {
      "cell_type": "code",
      "source": [
        "for token in doc:\n",
        "  print(token,token.is_punct,token.like_num,token.is_ascii,token.is_currency)"
      ],
      "metadata": {
        "id": "FV2FwbE000uf"
      },
      "execution_count": null,
      "outputs": []
    },
    {
      "cell_type": "code",
      "source": [
        "doc=nlp(\"In their range of colour, size, form, and anatomical arrangement, flowers present a seemingly endless variety of combinations.\")"
      ],
      "metadata": {
        "id": "DTH3p6XN08LT"
      },
      "execution_count": null,
      "outputs": []
    },
    {
      "cell_type": "code",
      "source": [
        "tokens=[token.text for token in doc]\n",
        "tokens"
      ],
      "metadata": {
        "id": "KWQtkLo01qbJ"
      },
      "execution_count": null,
      "outputs": []
    },
    {
      "cell_type": "code",
      "source": [
        "from spacy.symbols import ORTH\n",
        "nlp.tokenizer.add_special_case(\"theirin\",[{\n",
        "    ORTH:\"their\"},{ORTH:\"in\"}\n",
        "])"
      ],
      "metadata": {
        "id": "JYAid7Hg1wyI"
      },
      "execution_count": null,
      "outputs": []
    },
    {
      "cell_type": "code",
      "source": [
        "doc=nlp(\"In their range of colour, size, form, and anatomical arrangement, flowers present a seemingly endless variety of combinations. They range in size from minute blossoms to giant blooms. In some plants, such as poppy, magnolia, tulip, and petunia, each flower is relatively large and showy and is produced singly, while in other plants, such as aster, snapdragon, and lilac, the individual flowers may be very small and are borne in a distinctive cluster known as an inflorescence. Regardless of their variety, all flowers have a uniform function, the reproduction of the species through the production of seed.\")"
      ],
      "metadata": {
        "id": "QHCt29e42oIe"
      },
      "execution_count": null,
      "outputs": []
    },
    {
      "cell_type": "code",
      "source": [
        "nlp.add_pipe(\"sentencizer\")"
      ],
      "metadata": {
        "id": "A-VvWMHd3Y3n"
      },
      "execution_count": null,
      "outputs": []
    },
    {
      "cell_type": "code",
      "source": [
        "nlp.pipe_names"
      ],
      "metadata": {
        "id": "bKoe9vgk3NdL"
      },
      "execution_count": null,
      "outputs": []
    },
    {
      "cell_type": "code",
      "source": [
        "doc=nlp(\"In their range of colour, size, form, and anatomical arrangement, flowers present a seemingly endless variety of combinations. They range in size from minute blossoms to giant blooms. In some plants, such as poppy, magnolia, tulip, and petunia, each flower is relatively large and showy and is produced singly, while in other plants, such as aster, snapdragon, and lilac, the individual flowers may be very small and are borne in a distinctive cluster known as an inflorescence. Regardless of their variety, all flowers have a uniform function, the reproduction of the species through the production of seed.\")\n",
        "for sentence in doc.sents:\n",
        "  print(sentence)"
      ],
      "metadata": {
        "id": "1U4aUbRF3STL"
      },
      "execution_count": null,
      "outputs": []
    },
    {
      "cell_type": "code",
      "source": [
        "text='''\n",
        "Look for data to help you address the question. Governments are good\n",
        "sources because data from public research is often freely available. Good\n",
        "places to start include http://www.data.gov/, and http://www.science.\n",
        "gov/, and in the United Kingdom, http://data.gov.uk/.\n",
        "Two of my favorite data sets are the General Social Survey at http://www3.norc.org/gss+website/,\n",
        "and the European Social Survey at http://www.europeansocialsurvey.org/.\n",
        "'''"
      ],
      "metadata": {
        "id": "FsDsa-0m30hZ"
      },
      "execution_count": null,
      "outputs": []
    },
    {
      "cell_type": "code",
      "source": [
        "doc=nlp(text)\n",
        "urls=[]\n",
        "for tokens in doc:\n",
        "  if tokens.like_url:\n",
        "    urls.append(tokens)\n",
        "print(urls)"
      ],
      "metadata": {
        "id": "SrnucQVI4byB"
      },
      "execution_count": null,
      "outputs": []
    },
    {
      "cell_type": "code",
      "source": [
        "text1=(\"#1 Creating High-Quality Content: ...#2 Using Hashtags Effectively: ...#3 Collaborating with Other Users and Brands: ...#4 Consistent Posting and Engagement: ...#5 Running Instagram Contests and Giveaways: ...#6 UtilizInstagram Reels and New Features:\")"
      ],
      "metadata": {
        "id": "42VfXUPa41ab"
      },
      "execution_count": null,
      "outputs": []
    },
    {
      "cell_type": "code",
      "source": [
        "doc=nlp(text1)\n",
        "urls=[]\n",
        "for tokens in doc:\n",
        "  if tokens.like_num:\n",
        "    urls.append(tokens)\n",
        "print(urls)"
      ],
      "metadata": {
        "id": "HANmEwuY5Pj4"
      },
      "execution_count": null,
      "outputs": []
    },
    {
      "cell_type": "code",
      "source": [],
      "metadata": {
        "id": "2nvp8iWN5knI"
      },
      "execution_count": null,
      "outputs": []
    }
  ],
  "metadata": {
    "colab": {
      "provenance": [],
      "mount_file_id": "1CGCoy3M3SqNfosaoDQiAJDNc1VZf_UFp",
      "authorship_tag": "ABX9TyPUIejrUMeHU1MXr+B93/yf",
      "include_colab_link": true
    },
    "kernelspec": {
      "display_name": "Python 3",
      "name": "python3"
    },
    "language_info": {
      "name": "python"
    }
  },
  "nbformat": 4,
  "nbformat_minor": 0
}